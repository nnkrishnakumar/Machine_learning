{
 "cells": [
  {
   "cell_type": "code",
   "execution_count": 1,
   "id": "90006f7e-e3c2-40e2-9201-71ff4aa323ad",
   "metadata": {},
   "outputs": [],
   "source": [
    "import pandas as pd"
   ]
  },
  {
   "cell_type": "markdown",
   "id": "51ad332d-7886-4b2d-a773-41efd7ee6a19",
   "metadata": {},
   "source": [
    "Machine learning have three segement:\n",
    "\n",
    "1> Supervise learning:  feature + target\n",
    "\n",
    "2> Unsupervise learning: Feature\n",
    "\n",
    "3> Reinforcement learning: no feature + no target\n",
    "\n",
    "\n",
    "\n",
    "KNN\n",
    "\n",
    "Linear Regression\n",
    "\n",
    "Logistic Regression\n",
    "\n",
    "Decision Tree\n",
    "\n",
    "Ensemble learning \n",
    "\n",
    "Randomforest\n",
    "\n",
    "Bagging\n",
    "\n",
    "Adaboostclassifier\n",
    "\n",
    "AdaboostRegressor\n",
    "\n",
    "Votingclassifier\n",
    "\n",
    "etc.\n",
    "\n",
    "OpenCV\n",
    "\n",
    "facedetection/ object detection\n",
    "\n",
    "NLP:\n",
    "    \n",
    "Unsupervise Learning \n",
    "\n",
    "K-Mena\n",
    "\n",
    "Nearest Neighbore\n",
    "\n",
    "Recommendation \n",
    "\n",
    "complete:    \n"
   ]
  },
  {
   "cell_type": "markdown",
   "id": "366f5a79-4193-45d9-8db2-2e7b990534b3",
   "metadata": {},
   "source": [
    "# KNN"
   ]
  },
  {
   "cell_type": "code",
   "execution_count": 2,
   "id": "23762d4e-6ae7-44bd-95a9-3266c7b1f4fa",
   "metadata": {},
   "outputs": [],
   "source": [
    "import pandas as pd"
   ]
  },
  {
   "cell_type": "code",
   "execution_count": 3,
   "id": "4c8e2f3b-e0d9-4123-b9b5-f4897348f9be",
   "metadata": {},
   "outputs": [],
   "source": [
    "df=pd.read_excel(r\"C:\\Users\\Ducat\\Desktop\\AI_batch\\Fruit1.xlsx\")"
   ]
  },
  {
   "cell_type": "code",
   "execution_count": 4,
   "id": "9b3ca920-fac1-4fcd-acf5-83cecc90c56c",
   "metadata": {},
   "outputs": [
    {
     "data": {
      "text/html": [
       "<div>\n",
       "<style scoped>\n",
       "    .dataframe tbody tr th:only-of-type {\n",
       "        vertical-align: middle;\n",
       "    }\n",
       "\n",
       "    .dataframe tbody tr th {\n",
       "        vertical-align: top;\n",
       "    }\n",
       "\n",
       "    .dataframe thead th {\n",
       "        text-align: right;\n",
       "    }\n",
       "</style>\n",
       "<table border=\"1\" class=\"dataframe\">\n",
       "  <thead>\n",
       "    <tr style=\"text-align: right;\">\n",
       "      <th></th>\n",
       "      <th>length(cm)</th>\n",
       "      <th>width(cm)</th>\n",
       "      <th>name</th>\n",
       "    </tr>\n",
       "  </thead>\n",
       "  <tbody>\n",
       "    <tr>\n",
       "      <th>0</th>\n",
       "      <td>100.0</td>\n",
       "      <td>5.0</td>\n",
       "      <td>Banana</td>\n",
       "    </tr>\n",
       "    <tr>\n",
       "      <th>1</th>\n",
       "      <td>60.0</td>\n",
       "      <td>40.0</td>\n",
       "      <td>Apple</td>\n",
       "    </tr>\n",
       "    <tr>\n",
       "      <th>2</th>\n",
       "      <td>70.0</td>\n",
       "      <td>4.0</td>\n",
       "      <td>Apple</td>\n",
       "    </tr>\n",
       "    <tr>\n",
       "      <th>3</th>\n",
       "      <td>90.0</td>\n",
       "      <td>4.5</td>\n",
       "      <td>Banana</td>\n",
       "    </tr>\n",
       "    <tr>\n",
       "      <th>4</th>\n",
       "      <td>71.0</td>\n",
       "      <td>44.0</td>\n",
       "      <td>Apple</td>\n",
       "    </tr>\n",
       "    <tr>\n",
       "      <th>5</th>\n",
       "      <td>80.0</td>\n",
       "      <td>6.0</td>\n",
       "      <td>Banana</td>\n",
       "    </tr>\n",
       "    <tr>\n",
       "      <th>6</th>\n",
       "      <td>61.0</td>\n",
       "      <td>49.0</td>\n",
       "      <td>Apple</td>\n",
       "    </tr>\n",
       "    <tr>\n",
       "      <th>7</th>\n",
       "      <td>60.0</td>\n",
       "      <td>34.0</td>\n",
       "      <td>Banana</td>\n",
       "    </tr>\n",
       "    <tr>\n",
       "      <th>8</th>\n",
       "      <td>84.0</td>\n",
       "      <td>45.0</td>\n",
       "      <td>Banana</td>\n",
       "    </tr>\n",
       "    <tr>\n",
       "      <th>9</th>\n",
       "      <td>70.0</td>\n",
       "      <td>5.2</td>\n",
       "      <td>Banana</td>\n",
       "    </tr>\n",
       "    <tr>\n",
       "      <th>10</th>\n",
       "      <td>89.0</td>\n",
       "      <td>4.5</td>\n",
       "      <td>Banana</td>\n",
       "    </tr>\n",
       "    <tr>\n",
       "      <th>11</th>\n",
       "      <td>91.0</td>\n",
       "      <td>4.0</td>\n",
       "      <td>Banana</td>\n",
       "    </tr>\n",
       "    <tr>\n",
       "      <th>12</th>\n",
       "      <td>97.5</td>\n",
       "      <td>7.0</td>\n",
       "      <td>Banana</td>\n",
       "    </tr>\n",
       "    <tr>\n",
       "      <th>13</th>\n",
       "      <td>75.0</td>\n",
       "      <td>51.0</td>\n",
       "      <td>Apple</td>\n",
       "    </tr>\n",
       "    <tr>\n",
       "      <th>14</th>\n",
       "      <td>50.0</td>\n",
       "      <td>29.0</td>\n",
       "      <td>Apple</td>\n",
       "    </tr>\n",
       "    <tr>\n",
       "      <th>15</th>\n",
       "      <td>51.5</td>\n",
       "      <td>30.2</td>\n",
       "      <td>Apple</td>\n",
       "    </tr>\n",
       "  </tbody>\n",
       "</table>\n",
       "</div>"
      ],
      "text/plain": [
       "    length(cm)  width(cm)    name\n",
       "0        100.0        5.0  Banana\n",
       "1         60.0       40.0   Apple\n",
       "2         70.0        4.0   Apple\n",
       "3         90.0        4.5  Banana\n",
       "4         71.0       44.0   Apple\n",
       "5         80.0        6.0  Banana\n",
       "6         61.0       49.0   Apple\n",
       "7         60.0       34.0  Banana\n",
       "8         84.0       45.0  Banana\n",
       "9         70.0        5.2  Banana\n",
       "10        89.0        4.5  Banana\n",
       "11        91.0        4.0  Banana\n",
       "12        97.5        7.0  Banana\n",
       "13        75.0       51.0   Apple\n",
       "14        50.0       29.0   Apple\n",
       "15        51.5       30.2   Apple"
      ]
     },
     "execution_count": 4,
     "metadata": {},
     "output_type": "execute_result"
    }
   ],
   "source": [
    "df"
   ]
  },
  {
   "cell_type": "code",
   "execution_count": 14,
   "id": "33359299-6962-41dd-a2fb-399512f1c70b",
   "metadata": {},
   "outputs": [],
   "source": [
    "X=df.iloc[:,:-1].values      # features"
   ]
  },
  {
   "cell_type": "code",
   "execution_count": 21,
   "id": "e998a608-bc9d-41b0-ae1b-cc2c18987af1",
   "metadata": {},
   "outputs": [
    {
     "data": {
      "text/plain": [
       "array([[100. ,   5. ],\n",
       "       [ 60. ,  40. ],\n",
       "       [ 70. ,   4. ],\n",
       "       [ 90. ,   4.5],\n",
       "       [ 71. ,  44. ],\n",
       "       [ 80. ,   6. ],\n",
       "       [ 61. ,  49. ],\n",
       "       [ 60. ,  34. ],\n",
       "       [ 84. ,  45. ],\n",
       "       [ 70. ,   5.2],\n",
       "       [ 89. ,   4.5],\n",
       "       [ 91. ,   4. ],\n",
       "       [ 97.5,   7. ],\n",
       "       [ 75. ,  51. ],\n",
       "       [ 50. ,  29. ],\n",
       "       [ 51.5,  30.2]])"
      ]
     },
     "execution_count": 21,
     "metadata": {},
     "output_type": "execute_result"
    }
   ],
   "source": [
    "X"
   ]
  },
  {
   "cell_type": "code",
   "execution_count": 18,
   "id": "5a3b1890-4b39-4300-93d3-d42473368539",
   "metadata": {},
   "outputs": [],
   "source": [
    "y=df.iloc[:,-1].values"
   ]
  },
  {
   "cell_type": "code",
   "execution_count": 23,
   "id": "b6bc8f4d-e226-4c7a-a263-66da134df2dd",
   "metadata": {},
   "outputs": [
    {
     "data": {
      "text/plain": [
       "array(['Banana', 'Apple', 'Apple', 'Banana', 'Apple', 'Banana', 'Apple',\n",
       "       'Banana', 'Banana', 'Banana', 'Banana', 'Banana', 'Banana',\n",
       "       'Apple', 'Apple', 'Apple'], dtype=object)"
      ]
     },
     "execution_count": 23,
     "metadata": {},
     "output_type": "execute_result"
    }
   ],
   "source": [
    "y"
   ]
  },
  {
   "cell_type": "code",
   "execution_count": 24,
   "id": "14bd7697-217d-4b26-aaa0-bdc4edd76b53",
   "metadata": {},
   "outputs": [],
   "source": [
    "from sklearn.neighbors import KNeighborsClassifier"
   ]
  },
  {
   "cell_type": "code",
   "execution_count": 25,
   "id": "75c834f1-0bd5-48ac-956a-a91d840a9839",
   "metadata": {},
   "outputs": [],
   "source": [
    "model=KNeighborsClassifier()"
   ]
  },
  {
   "cell_type": "code",
   "execution_count": 26,
   "id": "1a053287-003a-4241-9c0b-581b4cca12c2",
   "metadata": {},
   "outputs": [
    {
     "data": {
      "text/plain": [
       "KNeighborsClassifier()"
      ]
     },
     "execution_count": 26,
     "metadata": {},
     "output_type": "execute_result"
    }
   ],
   "source": [
    "model.fit(X,y)"
   ]
  },
  {
   "cell_type": "code",
   "execution_count": 28,
   "id": "fe826c45-c54d-4c2f-a26d-36b776c5c63c",
   "metadata": {},
   "outputs": [
    {
     "data": {
      "text/plain": [
       "array(['Apple'], dtype=object)"
      ]
     },
     "execution_count": 28,
     "metadata": {},
     "output_type": "execute_result"
    }
   ],
   "source": [
    "sample=[[91,81]]\n",
    "model.predict(sample)"
   ]
  },
  {
   "cell_type": "code",
   "execution_count": 29,
   "id": "bef03926-6927-40f5-88cb-35fb6cdc0bb3",
   "metadata": {},
   "outputs": [],
   "source": [
    "import matplotlib.pyplot as plt"
   ]
  },
  {
   "cell_type": "code",
   "execution_count": 30,
   "id": "7ca87aec-d93c-4898-977f-6dcd9425b7b8",
   "metadata": {},
   "outputs": [],
   "source": [
    "import seaborn as sn"
   ]
  },
  {
   "cell_type": "code",
   "execution_count": 38,
   "id": "212c7850-8ce8-4b9d-a2a1-9b5fe9b78af5",
   "metadata": {},
   "outputs": [
    {
     "name": "stderr",
     "output_type": "stream",
     "text": [
      "C:\\Users\\Ducat\\anaconda3\\lib\\site-packages\\seaborn\\_decorators.py:36: FutureWarning: Pass the following variables as keyword args: x, y. From version 0.12, the only valid positional argument will be `data`, and passing other arguments without an explicit keyword will result in an error or misinterpretation.\n",
      "  warnings.warn(\n"
     ]
    },
    {
     "ename": "AttributeError",
     "evalue": "module 'seaborn' has no attribute 'show'",
     "output_type": "error",
     "traceback": [
      "\u001b[1;31m---------------------------------------------------------------------------\u001b[0m",
      "\u001b[1;31mAttributeError\u001b[0m                            Traceback (most recent call last)",
      "Input \u001b[1;32mIn [38]\u001b[0m, in \u001b[0;36m<cell line: 4>\u001b[1;34m()\u001b[0m\n\u001b[0;32m      2\u001b[0m plt\u001b[38;5;241m.\u001b[39mylabel(\u001b[38;5;124m\"\u001b[39m\u001b[38;5;124mwidth\u001b[39m\u001b[38;5;124m\"\u001b[39m)\n\u001b[0;32m      3\u001b[0m sn\u001b[38;5;241m.\u001b[39mscatterplot(X[:,\u001b[38;5;241m0\u001b[39m],X[:,\u001b[38;5;241m1\u001b[39m],hue\u001b[38;5;241m=\u001b[39my)\n\u001b[1;32m----> 4\u001b[0m \u001b[43msn\u001b[49m\u001b[38;5;241;43m.\u001b[39;49m\u001b[43mshow\u001b[49m()\n",
      "\u001b[1;31mAttributeError\u001b[0m: module 'seaborn' has no attribute 'show'"
     ]
    },
    {
     "data": {
      "image/png": "[encoded data removed]",
      "text/plain": [
       "<Figure size 432x288 with 1 Axes>"
      ]
     },
     "metadata": {
      "needs_background": "light"
     },
     "output_type": "display_data"
    }
   ],
   "source": [
    "plt.xlabel(\"length\")\n",
    "plt.ylabel(\"width\")\n",
    "sn.scatterplot(X[:,0],X[:,1],hue=y)\n",
    "sn.show()"
   ]
  },
  {
   "cell_type": "code",
   "execution_count": 47,
   "id": "a141e69b-b422-4a42-9d40-024fde6e2671",
   "metadata": {},
   "outputs": [
    {
     "name": "stderr",
     "output_type": "stream",
     "text": [
      "C:\\Users\\Ducat\\anaconda3\\lib\\site-packages\\seaborn\\_decorators.py:36: FutureWarning: Pass the following variables as keyword args: x, y. From version 0.12, the only valid positional argument will be `data`, and passing other arguments without an explicit keyword will result in an error or misinterpretation.\n",
      "  warnings.warn(\n"
     ]
    },
    {
     "data": {
      "text/plain": [
       "<AxesSubplot:>"
      ]
     },
     "execution_count": 47,
     "metadata": {},
     "output_type": "execute_result"
    },
    {
     "data": {
      "image/png": "[encoded data removed]",
      "text/plain": [
       "<Figure size 432x288 with 1 Axes>"
      ]
     },
     "metadata": {
      "needs_background": "light"
     },
     "output_type": "display_data"
    }
   ],
   "source": [
    "sn.scatterplot(X[:,0],X[:,1],hue=y_pred)"
   ]
  },
  {
   "cell_type": "code",
   "execution_count": 39,
   "id": "a242b23d-06ca-41f9-bd10-b59b0a7a844d",
   "metadata": {},
   "outputs": [
    {
     "data": {
      "text/plain": [
       "array([ 5. , 40. ,  4. ,  4.5, 44. ,  6. , 49. , 34. , 45. ,  5.2,  4.5,\n",
       "        4. ,  7. , 51. , 29. , 30.2])"
      ]
     },
     "execution_count": 39,
     "metadata": {},
     "output_type": "execute_result"
    }
   ],
   "source": [
    "X[:,1]"
   ]
  },
  {
   "cell_type": "code",
   "execution_count": 40,
   "id": "b66d125b-23dc-41d6-8780-87200cfd0de1",
   "metadata": {},
   "outputs": [
    {
     "data": {
      "text/plain": [
       "array([[100. ,   5. ],\n",
       "       [ 60. ,  40. ],\n",
       "       [ 70. ,   4. ],\n",
       "       [ 90. ,   4.5],\n",
       "       [ 71. ,  44. ],\n",
       "       [ 80. ,   6. ],\n",
       "       [ 61. ,  49. ],\n",
       "       [ 60. ,  34. ],\n",
       "       [ 84. ,  45. ],\n",
       "       [ 70. ,   5.2],\n",
       "       [ 89. ,   4.5],\n",
       "       [ 91. ,   4. ],\n",
       "       [ 97.5,   7. ],\n",
       "       [ 75. ,  51. ],\n",
       "       [ 50. ,  29. ],\n",
       "       [ 51.5,  30.2]])"
      ]
     },
     "execution_count": 40,
     "metadata": {},
     "output_type": "execute_result"
    }
   ],
   "source": [
    "X"
   ]
  },
  {
   "cell_type": "code",
   "execution_count": 42,
   "id": "7269f5ab-754b-4e42-b14f-49727af2c681",
   "metadata": {},
   "outputs": [],
   "source": [
    "y_pred=model.predict(X)"
   ]
  },
  {
   "cell_type": "code",
   "execution_count": 43,
   "id": "2815025d-de67-42b2-8112-e491ca7bddbd",
   "metadata": {},
   "outputs": [
    {
     "data": {
      "text/plain": [
       "array(['Banana', 'Apple', 'Banana', 'Banana', 'Apple', 'Banana', 'Apple',\n",
       "       'Apple', 'Apple', 'Banana', 'Banana', 'Banana', 'Banana', 'Apple',\n",
       "       'Apple', 'Apple'], dtype=object)"
      ]
     },
     "execution_count": 43,
     "metadata": {},
     "output_type": "execute_result"
    }
   ],
   "source": [
    "y_pred"
   ]
  },
  {
   "cell_type": "code",
   "execution_count": 44,
   "id": "913929ed-49b2-4c2e-9abf-358fd1963aaf",
   "metadata": {},
   "outputs": [
    {
     "data": {
      "text/plain": [
       "array(['Banana', 'Apple', 'Apple', 'Banana', 'Apple', 'Banana', 'Apple',\n",
       "       'Banana', 'Banana', 'Banana', 'Banana', 'Banana', 'Banana',\n",
       "       'Apple', 'Apple', 'Apple'], dtype=object)"
      ]
     },
     "execution_count": 44,
     "metadata": {},
     "output_type": "execute_result"
    }
   ],
   "source": [
    "y"
   ]
  },
  {
   "cell_type": "code",
   "execution_count": 45,
   "id": "591b141d-a861-4c09-96e2-8d54fde74906",
   "metadata": {},
   "outputs": [
    {
     "data": {
      "text/html": [
       "<div>\n",
       "<style scoped>\n",
       "    .dataframe tbody tr th:only-of-type {\n",
       "        vertical-align: middle;\n",
       "    }\n",
       "\n",
       "    .dataframe tbody tr th {\n",
       "        vertical-align: top;\n",
       "    }\n",
       "\n",
       "    .dataframe thead th {\n",
       "        text-align: right;\n",
       "    }\n",
       "</style>\n",
       "<table border=\"1\" class=\"dataframe\">\n",
       "  <thead>\n",
       "    <tr style=\"text-align: right;\">\n",
       "      <th></th>\n",
       "      <th>length(cm)</th>\n",
       "      <th>width(cm)</th>\n",
       "      <th>name</th>\n",
       "    </tr>\n",
       "  </thead>\n",
       "  <tbody>\n",
       "    <tr>\n",
       "      <th>0</th>\n",
       "      <td>100.0</td>\n",
       "      <td>5.0</td>\n",
       "      <td>Banana</td>\n",
       "    </tr>\n",
       "    <tr>\n",
       "      <th>1</th>\n",
       "      <td>60.0</td>\n",
       "      <td>40.0</td>\n",
       "      <td>Apple</td>\n",
       "    </tr>\n",
       "    <tr>\n",
       "      <th>2</th>\n",
       "      <td>70.0</td>\n",
       "      <td>4.0</td>\n",
       "      <td>Apple</td>\n",
       "    </tr>\n",
       "    <tr>\n",
       "      <th>3</th>\n",
       "      <td>90.0</td>\n",
       "      <td>4.5</td>\n",
       "      <td>Banana</td>\n",
       "    </tr>\n",
       "    <tr>\n",
       "      <th>4</th>\n",
       "      <td>71.0</td>\n",
       "      <td>44.0</td>\n",
       "      <td>Apple</td>\n",
       "    </tr>\n",
       "    <tr>\n",
       "      <th>5</th>\n",
       "      <td>80.0</td>\n",
       "      <td>6.0</td>\n",
       "      <td>Banana</td>\n",
       "    </tr>\n",
       "    <tr>\n",
       "      <th>6</th>\n",
       "      <td>61.0</td>\n",
       "      <td>49.0</td>\n",
       "      <td>Apple</td>\n",
       "    </tr>\n",
       "    <tr>\n",
       "      <th>7</th>\n",
       "      <td>60.0</td>\n",
       "      <td>34.0</td>\n",
       "      <td>Banana</td>\n",
       "    </tr>\n",
       "    <tr>\n",
       "      <th>8</th>\n",
       "      <td>84.0</td>\n",
       "      <td>45.0</td>\n",
       "      <td>Banana</td>\n",
       "    </tr>\n",
       "    <tr>\n",
       "      <th>9</th>\n",
       "      <td>70.0</td>\n",
       "      <td>5.2</td>\n",
       "      <td>Banana</td>\n",
       "    </tr>\n",
       "    <tr>\n",
       "      <th>10</th>\n",
       "      <td>89.0</td>\n",
       "      <td>4.5</td>\n",
       "      <td>Banana</td>\n",
       "    </tr>\n",
       "    <tr>\n",
       "      <th>11</th>\n",
       "      <td>91.0</td>\n",
       "      <td>4.0</td>\n",
       "      <td>Banana</td>\n",
       "    </tr>\n",
       "    <tr>\n",
       "      <th>12</th>\n",
       "      <td>97.5</td>\n",
       "      <td>7.0</td>\n",
       "      <td>Banana</td>\n",
       "    </tr>\n",
       "    <tr>\n",
       "      <th>13</th>\n",
       "      <td>75.0</td>\n",
       "      <td>51.0</td>\n",
       "      <td>Apple</td>\n",
       "    </tr>\n",
       "    <tr>\n",
       "      <th>14</th>\n",
       "      <td>50.0</td>\n",
       "      <td>29.0</td>\n",
       "      <td>Apple</td>\n",
       "    </tr>\n",
       "    <tr>\n",
       "      <th>15</th>\n",
       "      <td>51.5</td>\n",
       "      <td>30.2</td>\n",
       "      <td>Apple</td>\n",
       "    </tr>\n",
       "  </tbody>\n",
       "</table>\n",
       "</div>"
      ],
      "text/plain": [
       "    length(cm)  width(cm)    name\n",
       "0        100.0        5.0  Banana\n",
       "1         60.0       40.0   Apple\n",
       "2         70.0        4.0   Apple\n",
       "3         90.0        4.5  Banana\n",
       "4         71.0       44.0   Apple\n",
       "5         80.0        6.0  Banana\n",
       "6         61.0       49.0   Apple\n",
       "7         60.0       34.0  Banana\n",
       "8         84.0       45.0  Banana\n",
       "9         70.0        5.2  Banana\n",
       "10        89.0        4.5  Banana\n",
       "11        91.0        4.0  Banana\n",
       "12        97.5        7.0  Banana\n",
       "13        75.0       51.0   Apple\n",
       "14        50.0       29.0   Apple\n",
       "15        51.5       30.2   Apple"
      ]
     },
     "execution_count": 45,
     "metadata": {},
     "output_type": "execute_result"
    }
   ],
   "source": [
    "df"
   ]
  },
  {
   "cell_type": "code",
   "execution_count": 46,
   "id": "ac220bee-59dc-4688-9c07-afd54cf6be52",
   "metadata": {},
   "outputs": [
    {
     "name": "stderr",
     "output_type": "stream",
     "text": [
      "C:\\Users\\Ducat\\anaconda3\\lib\\site-packages\\seaborn\\_decorators.py:36: FutureWarning: Pass the following variables as keyword args: x, y. From version 0.12, the only valid positional argument will be `data`, and passing other arguments without an explicit keyword will result in an error or misinterpretation.\n",
      "  warnings.warn(\n"
     ]
    },
    {
     "data": {
      "text/plain": [
       "<AxesSubplot:>"
      ]
     },
     "execution_count": 46,
     "metadata": {},
     "output_type": "execute_result"
    },
    {
     "data": {
      "image/png": "[encoded data removed]",
      "text/plain": [
       "<Figure size 432x288 with 1 Axes>"
      ]
     },
     "metadata": {
      "needs_background": "light"
     },
     "output_type": "display_data"
    }
   ],
   "source": []
  },
  {
   "cell_type": "code",
   "execution_count": 48,
   "id": "e2f854e7-8b3e-4c66-a077-2533a31d6bfc",
   "metadata": {},
   "outputs": [
    {
     "data": {
      "text/plain": [
       "array(['Banana', 'Apple', 'Apple', 'Banana', 'Apple', 'Banana', 'Apple',\n",
       "       'Banana', 'Banana', 'Banana', 'Banana', 'Banana', 'Banana',\n",
       "       'Apple', 'Apple', 'Apple'], dtype=object)"
      ]
     },
     "execution_count": 48,
     "metadata": {},
     "output_type": "execute_result"
    }
   ],
   "source": [
    "y"
   ]
  },
  {
   "cell_type": "code",
   "execution_count": 49,
   "id": "940f7af7-a92c-44fb-8f6a-436760fce119",
   "metadata": {},
   "outputs": [
    {
     "data": {
      "text/plain": [
       "array(['Banana', 'Apple', 'Banana', 'Banana', 'Apple', 'Banana', 'Apple',\n",
       "       'Apple', 'Apple', 'Banana', 'Banana', 'Banana', 'Banana', 'Apple',\n",
       "       'Apple', 'Apple'], dtype=object)"
      ]
     },
     "execution_count": 49,
     "metadata": {},
     "output_type": "execute_result"
    }
   ],
   "source": [
    "y_pred"
   ]
  },
  {
   "cell_type": "code",
   "execution_count": 51,
   "id": "ac3768da-bdf9-4448-99f0-865a6c2ad9e3",
   "metadata": {},
   "outputs": [
    {
     "data": {
      "text/plain": [
       "array(['Apple'], dtype=object)"
      ]
     },
     "execution_count": 51,
     "metadata": {},
     "output_type": "execute_result"
    }
   ],
   "source": [
    "model.predict([[80,30]])"
   ]
  },
  {
   "cell_type": "markdown",
   "id": "ac927945-b031-4328-a7bf-28cecf9c29b7",
   "metadata": {},
   "source": [
    "conclusion: \n",
    "    \n",
    "    KNN working calculate distance with all the datapoint and pick 5 nearest data point and after voting it decide  the class of given sample.\n",
    "    "
   ]
  },
  {
   "cell_type": "code",
   "execution_count": null,
   "id": "c01fc142-90f2-4dfb-97fa-2a01b27d6f50",
   "metadata": {},
   "outputs": [],
   "source": []
  }
 ],
 "metadata": {
  "kernelspec": {
   "display_name": "Python 3 (ipykernel)",
   "language": "python",
   "name": "python3"
  },
  "language_info": {
   "codemirror_mode": {
    "name": "ipython",
    "version": 3
   },
   "file_extension": ".py",
   "mimetype": "text/x-python",
   "name": "python",
   "nbconvert_exporter": "python",
   "pygments_lexer": "ipython3",
   "version": "3.9.12"
  }
 },
 "nbformat": 4,
 "nbformat_minor": 5
}
